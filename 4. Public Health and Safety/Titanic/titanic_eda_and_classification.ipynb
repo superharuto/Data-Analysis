{
 "cells": [
  {
   "cell_type": "markdown",
   "id": "f3a71e0e-f09b-464c-b8a2-8d5f7e105695",
   "metadata": {},
   "source": [
    "<div align='center'>\n",
    "    <a href=\"https://ibb.co/mcVgdXz\"><img src=\"https://i.ibb.co/nLNt4nk/header-titanic-solar-storms.jpg\" alt=\"header-titanic-solar-storms\" border=\"0\"></a>\n",
    "</div>"
   ]
  },
  {
   "cell_type": "markdown",
   "id": "40ff8c07-6bae-4463-be8b-95a4b72b19d0",
   "metadata": {},
   "source": [
    "# _Project Content_:\n",
    "1. [Introduction](#1)\n",
    "    * 1.1 [About Titanic](#1.1)\n",
    "    * 1.2 [How Many People Were Onboard?](#1.2)\n",
    "    * 1.3 [Main Reasons Of Titanic Disaster](#1.3)\n",
    "2. [First Organization](#2)\n",
    "    * 2.1 [Load Libraries](#2.1)\n",
    "    * 2.2 [Load Dataset](#2.2)\n",
    "    * 2.3 [Getting to Know the Variables](#2.3)\n",
    "3. [Exploring The Dataset](#3)\n",
    "    * 3.1 [Check General Information About Dataset](#3.1)\n",
    "        * 3.1.1 [Analysis Output](#3.1.1)\n",
    "    * 3.2 [Missing Values](#3.2)\n",
    "        * 3.2.1 [Analysis Output](#3.2.1)\n",
    "    * 3.3 [Unique Values](#3.3)\n",
    "4. [Data Cleaning](#4)\n",
    "    * 4.1 [Drop Rows Which Are NaNs](#4.1)\n",
    "    * 4.2 [Age Variable Missing Values](#4.2)\n",
    "    * 4.3 [Fare Variable Missing Values](#4.3)\n",
    "    * 4.4 [Embarked Variable's Missing Values](#4.4)\n",
    "    * 4.5 [Boat Variable's Missing Value](#4.5)\n",
    "    * 4.6 [Seperating Name & Surname](#4.6)\n",
    "5. [EDA](#5)\n",
    "    * 5.1 [Survived Passenger](#5.1)\n",
    "        * 5.2.1 [Survived Passenger's By Sex](#5.2.1)\n",
    "        * 5.2.2 [Survived Passenger's By Class](#5.2.2)\n",
    "    * 5.2 [Number Of Passenger Per pclass](#5.2)\n",
    "    * 5.3 [Count Of Passengers By Sex](#5.3)\n",
    "    * 5.4 [Passenger Count by Embarkation Port](#5.4)\n",
    "    * 5.5 [Passenger Count by Siblings/Spouses Aboard ](#5.5)\n",
    "    * 5.6 [Number Of Passenger Within Life-Boats](#5.6)\n",
    "    * 5.7 [Boxplot For Age Variable](#5.7)\n",
    "6. [Correlation Heatmap](#6)\n",
    "7. [One-Hot Encoding](#7)\n",
    "8. [Classification Model Using Logistic Regression](#8)\n",
    "    * 8.1 [Choosing Variables For Modelling](#8.1)\n",
    "    * 8.2 [Import Libraries](#8.2)\n",
    "    * 8.3 [Simple Logistic Regression Modelling](#8.3)\n",
    "        * 8.3.1 [Analysis Output](#8.3.1)"
   ]
  },
  {
   "cell_type": "markdown",
   "id": "b5170900-1ebc-4542-870e-946520a827e1",
   "metadata": {},
   "source": [
    "# 1. Introduction <a id=1></a>"
   ]
  },
  {
   "cell_type": "markdown",
   "id": "6891e881-377b-4074-a3b7-66d52572c174",
   "metadata": {},
   "source": [
    "## 1.1 About Titanic <a id=2></a>\n",
    "[Source](https://en.wikipedia.org/wiki/Titanic)"
   ]
  },
  {
   "cell_type": "markdown",
   "id": "2912d6f5-7df7-4c2b-afa7-6f3fff149401",
   "metadata": {},
   "source": [
    "RMS Titanic was a British ocean liner that sank on 15 April 1912 after striking an iceberg on the ship's maiden voyage from Southampton, England to New York City, United States. Of the estimated 2,224 passengers and crew aboard, approximately 1,500 died, making the incident the deadliest sinking of a single ship at the time. Titanic, operated by the White Star Line, carried some of the wealthiest people in the world, as well as hundreds of emigrants from the British Isles, Scandinavia, and elsewhere in Europe who were seeking a new life in the United States and Canada. The disaster drew public attention, spurred major changes in maritime safety regulations, and inspired a lasting legacy in popular culture.\r\n",
    "\r\n",
    "RMS Titanic was the largest ship afloat upon entering service and the second of three Olympic-class ocean liners built for the White Star Line. The ship was built by the Harland and Wolff shipbuilding company in Belfast. Thomas Andrews Jr., the chief naval architect of the shipyard, died in the disaster. Titanic was under the command of Captain Edward John Smith, who went down with the ship.\r\n",
    "\r\n",
    "The first-class accommodation was designed to be the pinnacle of comfort and luxury. It included a gymnasium, swimming pool, smoking rooms, fine restaurants and cafes, a Victorian-style Turkish bath, and hundreds of opulent cabins. A high-powered radiotelegraph transmitter was available to send passenger \"marconigrams\" and for the ship's operational use. Titanic had advanced safety features, such as watertight compartments and remotely activated watertight doors, which contributed to the ship's reputation as \"unsinkable\".\r\n",
    "\r\n",
    "Titanic was equipped with 16 lifeboat davits, each capable of lowering three lifeboats, for a total of 48 boats. Despite this capacity of 48, the ship was only equipped with a total of 20 lifeboats. Fourteen were regular lifeboats, two were cutter lifeboats, and four were collapsible and proved difficult to launch while the ship was sinking. Together, the 20 lifeboats could hold 1,178 people—about half the number of passengers on board, and one-third of the number of passengers the ship could have carried at full capacity (a number consistent with the maritime safety regulations of the era). The British Board of Trade's regulations required 14 lifeboats for a ship 10,000 tonnes. Titanic carried six more than required, allowing 338 extra people room in lifeboats. When the ship sank, the lifeboats that had been lowered were only filled up to an average o  f 60%."
   ]
  },
  {
   "cell_type": "markdown",
   "id": "eeca9cd3-745f-4228-ae0f-8f73fdf01ab5",
   "metadata": {},
   "source": [
    "## 1.2 How Many People Were On-board? <a id=1.2></a>"
   ]
  },
  {
   "cell_type": "markdown",
   "id": "3fc2395d-f84c-408d-a5ca-2084b1627a71",
   "metadata": {},
   "source": [
    "The RMS Titanic had an estimated total of 2,224 passengers and crew members on board during its maiden voyage from Southampton to New York City. Of these individuals, approximately 1,500 lost their lives in the tragic sinking of the ship.\r\n",
    "\r\n",
    "Regarding the survivors, the exact number is subject to some variation in historical records, but it is generally accepted that around 710 individuals survived the disaster. These survivors were rescued from the sinking ship by lifeboats or, in some cases, by other vessels that responded to the Titanic's distress calls."
   ]
  },
  {
   "cell_type": "markdown",
   "id": "f0a7ced2-983a-4104-bfce-81f7c63ce42e",
   "metadata": {},
   "source": [
    "## 1.3 Main Reasons Of Titanic Disaster <a id=1.3></a>"
   ]
  },
  {
   "cell_type": "markdown",
   "id": "8d615bd9-b40d-4cde-a0c7-4af57624b7e9",
   "metadata": {},
   "source": [
    "<div align='center'>\n",
    "    <a href=\"https://ibb.co/g3z3Zts\"><img src=\"https://i.ibb.co/Btqt2T8/247-Wall-St-com-247-WS-859029-ship-sinking.webp\" alt=\"247-Wall-St-com-247-WS-859029-ship-sinking\" border=\"0\"></a>\n",
    "</div>"
   ]
  },
  {
   "cell_type": "markdown",
   "id": "d27ce3aa-4e2c-4d2d-b238-e63e6c7fce6d",
   "metadata": {},
   "source": [
    "\r\n",
    "1. **Collision with an Iceberg**: The most immediate and direct cause of the Titanic sinking was its collision with an iceberg in the North Atlantic Ocean. The iceberg tore a series of holes along the ship's starboard side, causing it to flood and eventually sink.\r\n",
    "\r\n",
    "2. **Insufficient Lifeboats**: Despite being equipped with advanced safety features for its time, including watertight compartments and remotely activated watertight doors, the Titanic carried an inadequate number of lifeboats. Regulations at the time did not require enough lifeboats to accommodate all passengers and crew, leading to a shortage during the evacuation.\r\n",
    "\r\n",
    "3. **High Speed in Iceberg-Prone Area**: The Titanic was traveling at a high speed of around 22 knots (40 km/h) when it encountered the iceberg. This speed was faster than recommended for navigating through areas known to have icebergs. The decision to maintain a high speed, coupled with inadequate lookout and communication procedures, reduced the crew's ability to detect and avoid the iceberg in time.\r\n",
    "\r\n",
    "4. **Miscommunication and Delayed Response**: There were several instances of miscommunication and delayed responses to warnings about ice in the area leading up to the collision. Despite receiving multiple iceberg warnings from other ships, the Titanic's wireless operator, Jack Phillips, was preoccupied with transmitting passenger messages rather than relaying ice warnings to the bridge promptly.\r\n",
    "\r\n",
    "5. **Inadequate Training and Emergency Procedures**: The crew's training in emergency procedures, such as launching lifeboats and conducting orderly evacuations, was insufficient. The lack of drills and practice sessions meant that crew members and passengers were ill-prepared for the chaos and panic that ensued during the evacuation.\r\n",
    "\r\n",
    "6. **Design Flaws**: While the Titanic was considered state-of-the-art for its time, there were design flaws that contributed to its vulnerability in the event of a collision. The ship's bulkheads (watertight compartments) did not extend high enough to prevent water from spilling over into adjacent compartments, and the lack of a double hull made it more susceptible to damage from iceberg cT\n",
    "In summary, the Titanic disaster was a result of a combination of factors, including human error, design flaws, inadequate safety measures, and the harsh conditions of the North Atlantic environment."
   ]
  },
  {
   "cell_type": "markdown",
   "id": "5361d698-0dd4-4e6a-81b3-2e73425cdcd3",
   "metadata": {},
   "source": [
    "# 2. First Organization <a id=2.1></a>"
   ]
  },
  {
   "cell_type": "markdown",
   "id": "17a6fdaf-08e3-40ce-be8b-6d045449ac22",
   "metadata": {},
   "source": [
    "## 2.1 Load Libraries <a id=2.1></a>"
   ]
  },
  {
   "cell_type": "code",
   "execution_count": 104,
   "id": "e0a9e59d",
   "metadata": {},
   "outputs": [],
   "source": [
    "# Libraries\n",
    "import pandas as pd\n",
    "import numpy as np\n",
    "import matplotlib.pyplot as plt\n",
    "import seaborn as sns\n",
    "\n",
    "import warnings\n",
    "warnings.filterwarnings('ignore')"
   ]
  },
  {
   "cell_type": "markdown",
   "id": "f665d4c9-426b-438b-805c-749d2fba3133",
   "metadata": {},
   "source": [
    "## 2.2 Load Dataset <a id=2.2></a>"
   ]
  },
  {
   "cell_type": "code",
   "execution_count": 105,
   "id": "1a29cb17",
   "metadata": {},
   "outputs": [],
   "source": [
    "# Laoding Dataset \n",
    "df = pd.read_csv('Titanic_dataset_com.csv')"
   ]
  },
  {
   "cell_type": "markdown",
   "id": "863e4091-d024-4103-a654-5a951b14803b",
   "metadata": {},
   "source": [
    "## 2.3 Getting to Know The Variables <a id=2.3></a>"
   ]
  },
  {
   "cell_type": "markdown",
   "id": "6114f465-7e06-466b-b1eb-e2525d3f3bfb",
   "metadata": {},
   "source": [
    "| Variable    | Description                                                                                          |\r\n",
    "|-------------|------------------------------------------------------------------------------------------------------|\r\n",
    "| PassengerId | Unique identifier assigned to each passenger.                                                        |\r\n",
    "| pclass      | Passenger's ticket class (1st, 2nd, or 3rd class).                                                   |\r\n",
    "| survived    | Indicates whether the passenger survived (1) or not (0) the Titanic disaster.                         |\r\n",
    "| name        | Passenger's name.                                                                                    |\r\n",
    "| sex         | Gender of the passenger (male or female).                                                            |\r\n",
    "| age         | Age of the passenger. (Some values may be missing/null)                                              |\r\n",
    "| sibsp       | Number of siblings/spouses the passenger had aboard the Titanic.                                      |\r\n",
    "| parch       | Number of parents/children the passenger had aboard the Titanic.                                      |\r\n",
    "| ticket      | Ticket number.                                                                                       |\r\n",
    "| fare        | Fare paid by the passenger for the ticket. (Some values may be missing/null)                          |\r\n",
    "| cabin       | Cabin number where the passenger stayed. (Many values are missing/null)                               |\r\n",
    "| embarked    | Port where the passenger embarked onto the Titanic (C = Cherbourg, Q = Queenstown, S = Southampton). |\r\n",
    "| boat        | Lifeboat number (if the passenger survived and was rescued).                                          |\r\n",
    "| body        | Identification number of the body (if the passenger did not survive and the body was recovered).      |\r\n",
    "| home.dest   | Passenger's home destination.                                                                        |\r\n"
   ]
  },
  {
   "cell_type": "markdown",
   "id": "bc2a91d7-fc2a-4f1e-82cb-149047479e1c",
   "metadata": {},
   "source": [
    "# 3. Exploring The Dataset <a id=3></a>"
   ]
  },
  {
   "cell_type": "markdown",
   "id": "0f9fd354-3ef3-4869-865d-91b59e637c3e",
   "metadata": {},
   "source": [
    "## 3.1 Check General Information About Dataset <a id=3.1></a>"
   ]
  },
  {
   "cell_type": "code",
   "execution_count": 106,
   "id": "7db865f6",
   "metadata": {},
   "outputs": [
    {
     "data": {
      "text/html": [
       "<div>\n",
       "<style scoped>\n",
       "    .dataframe tbody tr th:only-of-type {\n",
       "        vertical-align: middle;\n",
       "    }\n",
       "\n",
       "    .dataframe tbody tr th {\n",
       "        vertical-align: top;\n",
       "    }\n",
       "\n",
       "    .dataframe thead th {\n",
       "        text-align: right;\n",
       "    }\n",
       "</style>\n",
       "<table border=\"1\" class=\"dataframe\">\n",
       "  <thead>\n",
       "    <tr style=\"text-align: right;\">\n",
       "      <th></th>\n",
       "      <th>PassengerId</th>\n",
       "      <th>pclass</th>\n",
       "      <th>survived</th>\n",
       "      <th>name</th>\n",
       "      <th>sex</th>\n",
       "      <th>age</th>\n",
       "      <th>sibsp</th>\n",
       "      <th>parch</th>\n",
       "      <th>ticket</th>\n",
       "      <th>fare</th>\n",
       "      <th>cabin</th>\n",
       "      <th>embarked</th>\n",
       "      <th>boat</th>\n",
       "      <th>body</th>\n",
       "      <th>home.dest</th>\n",
       "    </tr>\n",
       "  </thead>\n",
       "  <tbody>\n",
       "    <tr>\n",
       "      <th>0</th>\n",
       "      <td>1.0</td>\n",
       "      <td>1.0</td>\n",
       "      <td>1.0</td>\n",
       "      <td>Allen, Miss. Elisabeth Walton</td>\n",
       "      <td>female</td>\n",
       "      <td>29.0000</td>\n",
       "      <td>0.0</td>\n",
       "      <td>0.0</td>\n",
       "      <td>24160</td>\n",
       "      <td>211.3375</td>\n",
       "      <td>B5</td>\n",
       "      <td>S</td>\n",
       "      <td>2</td>\n",
       "      <td>NaN</td>\n",
       "      <td>St Louis, MO</td>\n",
       "    </tr>\n",
       "    <tr>\n",
       "      <th>1</th>\n",
       "      <td>2.0</td>\n",
       "      <td>1.0</td>\n",
       "      <td>1.0</td>\n",
       "      <td>Allison, Master. Hudson Trevor</td>\n",
       "      <td>male</td>\n",
       "      <td>0.9167</td>\n",
       "      <td>1.0</td>\n",
       "      <td>2.0</td>\n",
       "      <td>113781</td>\n",
       "      <td>151.5500</td>\n",
       "      <td>C22 C26</td>\n",
       "      <td>S</td>\n",
       "      <td>11</td>\n",
       "      <td>NaN</td>\n",
       "      <td>Montreal, PQ / Chesterville, ON</td>\n",
       "    </tr>\n",
       "    <tr>\n",
       "      <th>2</th>\n",
       "      <td>3.0</td>\n",
       "      <td>1.0</td>\n",
       "      <td>0.0</td>\n",
       "      <td>Allison, Miss. Helen Loraine</td>\n",
       "      <td>female</td>\n",
       "      <td>2.0000</td>\n",
       "      <td>1.0</td>\n",
       "      <td>2.0</td>\n",
       "      <td>113781</td>\n",
       "      <td>151.5500</td>\n",
       "      <td>C22 C26</td>\n",
       "      <td>S</td>\n",
       "      <td>NaN</td>\n",
       "      <td>NaN</td>\n",
       "      <td>Montreal, PQ / Chesterville, ON</td>\n",
       "    </tr>\n",
       "    <tr>\n",
       "      <th>3</th>\n",
       "      <td>4.0</td>\n",
       "      <td>1.0</td>\n",
       "      <td>0.0</td>\n",
       "      <td>Allison, Mr. Hudson Joshua Creighton</td>\n",
       "      <td>male</td>\n",
       "      <td>30.0000</td>\n",
       "      <td>1.0</td>\n",
       "      <td>2.0</td>\n",
       "      <td>113781</td>\n",
       "      <td>151.5500</td>\n",
       "      <td>C22 C26</td>\n",
       "      <td>S</td>\n",
       "      <td>NaN</td>\n",
       "      <td>135.0</td>\n",
       "      <td>Montreal, PQ / Chesterville, ON</td>\n",
       "    </tr>\n",
       "    <tr>\n",
       "      <th>4</th>\n",
       "      <td>5.0</td>\n",
       "      <td>1.0</td>\n",
       "      <td>0.0</td>\n",
       "      <td>Allison, Mrs. Hudson J C (Bessie Waldo Daniels)</td>\n",
       "      <td>female</td>\n",
       "      <td>25.0000</td>\n",
       "      <td>1.0</td>\n",
       "      <td>2.0</td>\n",
       "      <td>113781</td>\n",
       "      <td>151.5500</td>\n",
       "      <td>C22 C26</td>\n",
       "      <td>S</td>\n",
       "      <td>NaN</td>\n",
       "      <td>NaN</td>\n",
       "      <td>Montreal, PQ / Chesterville, ON</td>\n",
       "    </tr>\n",
       "  </tbody>\n",
       "</table>\n",
       "</div>"
      ],
      "text/plain": [
       "   PassengerId  pclass  survived  \\\n",
       "0          1.0     1.0       1.0   \n",
       "1          2.0     1.0       1.0   \n",
       "2          3.0     1.0       0.0   \n",
       "3          4.0     1.0       0.0   \n",
       "4          5.0     1.0       0.0   \n",
       "\n",
       "                                              name     sex      age  sibsp  \\\n",
       "0                    Allen, Miss. Elisabeth Walton  female  29.0000    0.0   \n",
       "1                   Allison, Master. Hudson Trevor    male   0.9167    1.0   \n",
       "2                     Allison, Miss. Helen Loraine  female   2.0000    1.0   \n",
       "3             Allison, Mr. Hudson Joshua Creighton    male  30.0000    1.0   \n",
       "4  Allison, Mrs. Hudson J C (Bessie Waldo Daniels)  female  25.0000    1.0   \n",
       "\n",
       "   parch  ticket      fare    cabin embarked boat   body  \\\n",
       "0    0.0   24160  211.3375       B5        S    2    NaN   \n",
       "1    2.0  113781  151.5500  C22 C26        S   11    NaN   \n",
       "2    2.0  113781  151.5500  C22 C26        S  NaN    NaN   \n",
       "3    2.0  113781  151.5500  C22 C26        S  NaN  135.0   \n",
       "4    2.0  113781  151.5500  C22 C26        S  NaN    NaN   \n",
       "\n",
       "                         home.dest  \n",
       "0                     St Louis, MO  \n",
       "1  Montreal, PQ / Chesterville, ON  \n",
       "2  Montreal, PQ / Chesterville, ON  \n",
       "3  Montreal, PQ / Chesterville, ON  \n",
       "4  Montreal, PQ / Chesterville, ON  "
      ]
     },
     "execution_count": 106,
     "metadata": {},
     "output_type": "execute_result"
    }
   ],
   "source": [
    "df.head()"
   ]
  },
  {
   "cell_type": "code",
   "execution_count": 107,
   "id": "73d07f60",
   "metadata": {},
   "outputs": [
    {
     "name": "stdout",
     "output_type": "stream",
     "text": [
      "<class 'pandas.core.frame.DataFrame'>\n",
      "RangeIndex: 1310 entries, 0 to 1309\n",
      "Data columns (total 15 columns):\n",
      " #   Column       Non-Null Count  Dtype  \n",
      "---  ------       --------------  -----  \n",
      " 0   PassengerId  1309 non-null   float64\n",
      " 1   pclass       1309 non-null   float64\n",
      " 2   survived     1309 non-null   float64\n",
      " 3   name         1309 non-null   object \n",
      " 4   sex          1309 non-null   object \n",
      " 5   age          1046 non-null   float64\n",
      " 6   sibsp        1309 non-null   float64\n",
      " 7   parch        1309 non-null   float64\n",
      " 8   ticket       1309 non-null   object \n",
      " 9   fare         1308 non-null   float64\n",
      " 10  cabin        295 non-null    object \n",
      " 11  embarked     1307 non-null   object \n",
      " 12  boat         486 non-null    object \n",
      " 13  body         121 non-null    float64\n",
      " 14  home.dest    745 non-null    object \n",
      "dtypes: float64(8), object(7)\n",
      "memory usage: 153.6+ KB\n"
     ]
    }
   ],
   "source": [
    "df.info()"
   ]
  },
  {
   "cell_type": "code",
   "execution_count": 108,
   "id": "530a0207-1787-40ef-bc7e-52bbf5a196ed",
   "metadata": {},
   "outputs": [
    {
     "data": {
      "text/plain": [
       "(1310, 15)"
      ]
     },
     "execution_count": 108,
     "metadata": {},
     "output_type": "execute_result"
    }
   ],
   "source": [
    "df.shape"
   ]
  },
  {
   "cell_type": "code",
   "execution_count": 109,
   "id": "4d3e318c-ab98-4c48-8f27-aa24a8addb8e",
   "metadata": {},
   "outputs": [
    {
     "data": {
      "text/plain": [
       "Index(['PassengerId', 'pclass', 'survived', 'name', 'sex', 'age', 'sibsp',\n",
       "       'parch', 'ticket', 'fare', 'cabin', 'embarked', 'boat', 'body',\n",
       "       'home.dest'],\n",
       "      dtype='object')"
      ]
     },
     "execution_count": 109,
     "metadata": {},
     "output_type": "execute_result"
    }
   ],
   "source": [
    "df.columns"
   ]
  },
  {
   "cell_type": "code",
   "execution_count": 110,
   "id": "d440f998-299d-478f-b2a8-05343b4d3099",
   "metadata": {},
   "outputs": [
    {
     "data": {
      "text/plain": [
       "0"
      ]
     },
     "execution_count": 110,
     "metadata": {},
     "output_type": "execute_result"
    }
   ],
   "source": [
    "df.duplicated().sum()"
   ]
  },
  {
   "cell_type": "markdown",
   "id": "b1afde33-943f-45e4-babf-3a34cf5cf1f6",
   "metadata": {},
   "source": [
    "### 3.1.1 Analysis Output <a id=3.1.1></a>"
   ]
  },
  {
   "cell_type": "markdown",
   "id": "478ae930-be10-403a-a793-85e13e8dd44b",
   "metadata": {},
   "source": [
    "\r\n",
    "- **Number of Rows**: 1310\r\n",
    "- **Number of Columns**: 15\r\n",
    "\r\n",
    "Column Names and Data Types:\r\n",
    "1. **PassengerId**: float64\r\n",
    "2. **pclass**: float64\r\n",
    "3. **survived**: float64\r\n",
    "4. **name**: object\r\n",
    "5. **sex**: object\r\n",
    "6. **age**: float64\r\n",
    "7. **sibsp**: float64\r\n",
    "8. **parch**: float64\r\n",
    "9. **ticket**: object\r\n",
    "10. **fare**: float64\r\n",
    "11. **cabin**: object\r\n",
    "12. **embarked**: object\r\n",
    "13. **boat**: object\r\n",
    "14. **body**: float64\r\n",
    "15. *icating categorical variables or strings."
   ]
  },
  {
   "cell_type": "markdown",
   "id": "0baa998b-6710-4835-b97e-e12b24f96790",
   "metadata": {},
   "source": [
    "## 3.2 Missing Values <a id=3.2></a>"
   ]
  },
  {
   "cell_type": "code",
   "execution_count": 111,
   "id": "101c7350-f50c-40f3-8374-e6dc7e433773",
   "metadata": {},
   "outputs": [
    {
     "data": {
      "text/html": [
       "<div>\n",
       "<style scoped>\n",
       "    .dataframe tbody tr th:only-of-type {\n",
       "        vertical-align: middle;\n",
       "    }\n",
       "\n",
       "    .dataframe tbody tr th {\n",
       "        vertical-align: top;\n",
       "    }\n",
       "\n",
       "    .dataframe thead th {\n",
       "        text-align: right;\n",
       "    }\n",
       "</style>\n",
       "<table border=\"1\" class=\"dataframe\">\n",
       "  <thead>\n",
       "    <tr style=\"text-align: right;\">\n",
       "      <th></th>\n",
       "      <th>0</th>\n",
       "    </tr>\n",
       "  </thead>\n",
       "  <tbody>\n",
       "    <tr>\n",
       "      <th>PassengerId</th>\n",
       "      <td>1</td>\n",
       "    </tr>\n",
       "    <tr>\n",
       "      <th>pclass</th>\n",
       "      <td>1</td>\n",
       "    </tr>\n",
       "    <tr>\n",
       "      <th>survived</th>\n",
       "      <td>1</td>\n",
       "    </tr>\n",
       "    <tr>\n",
       "      <th>name</th>\n",
       "      <td>1</td>\n",
       "    </tr>\n",
       "    <tr>\n",
       "      <th>sex</th>\n",
       "      <td>1</td>\n",
       "    </tr>\n",
       "    <tr>\n",
       "      <th>age</th>\n",
       "      <td>264</td>\n",
       "    </tr>\n",
       "    <tr>\n",
       "      <th>sibsp</th>\n",
       "      <td>1</td>\n",
       "    </tr>\n",
       "    <tr>\n",
       "      <th>parch</th>\n",
       "      <td>1</td>\n",
       "    </tr>\n",
       "    <tr>\n",
       "      <th>ticket</th>\n",
       "      <td>1</td>\n",
       "    </tr>\n",
       "    <tr>\n",
       "      <th>fare</th>\n",
       "      <td>2</td>\n",
       "    </tr>\n",
       "    <tr>\n",
       "      <th>cabin</th>\n",
       "      <td>1015</td>\n",
       "    </tr>\n",
       "    <tr>\n",
       "      <th>embarked</th>\n",
       "      <td>3</td>\n",
       "    </tr>\n",
       "    <tr>\n",
       "      <th>boat</th>\n",
       "      <td>824</td>\n",
       "    </tr>\n",
       "    <tr>\n",
       "      <th>body</th>\n",
       "      <td>1189</td>\n",
       "    </tr>\n",
       "    <tr>\n",
       "      <th>home.dest</th>\n",
       "      <td>565</td>\n",
       "    </tr>\n",
       "  </tbody>\n",
       "</table>\n",
       "</div>"
      ],
      "text/plain": [
       "                0\n",
       "PassengerId     1\n",
       "pclass          1\n",
       "survived        1\n",
       "name            1\n",
       "sex             1\n",
       "age           264\n",
       "sibsp           1\n",
       "parch           1\n",
       "ticket          1\n",
       "fare            2\n",
       "cabin        1015\n",
       "embarked        3\n",
       "boat          824\n",
       "body         1189\n",
       "home.dest     565"
      ]
     },
     "execution_count": 111,
     "metadata": {},
     "output_type": "execute_result"
    }
   ],
   "source": [
    "df.isna().sum().to_frame()"
   ]
  },
  {
   "cell_type": "code",
   "execution_count": 112,
   "id": "eaf885d1-3003-463e-984b-3607cfd507c0",
   "metadata": {},
   "outputs": [],
   "source": [
    "def NansPercentage(col, dataframe):\n",
    "    \"\"\"\n",
    "    Function: NansPercentage\n",
    "\n",
    "    Description:\n",
    "    Calculates the percentage of missing values in a specified column of a DataFrame.\n",
    "    \n",
    "    Parameters:\n",
    "    - col: str\n",
    "      The name of the column for which the missing values percentage needs to be calculated.\n",
    "    - dataframe: pandas DataFrame\n",
    "      The DataFrame containing the data.\n",
    "    \n",
    "    Returns:\n",
    "    None\n",
    "    \n",
    "    Example Usage:\n",
    "    NansPercentage('age', df)\n",
    "\n",
    "    \"\"\"\n",
    "    perc = dataframe[col].isnull().sum() / dataframe.shape[0]\n",
    "    print(f\"Missing Values Percentage of {col} Feature is {round(perc * 100,3)} %\")"
   ]
  },
  {
   "cell_type": "code",
   "execution_count": 113,
   "id": "10a2f954-5c3b-46de-805e-122ef11717e0",
   "metadata": {},
   "outputs": [
    {
     "name": "stdout",
     "output_type": "stream",
     "text": [
      "Missing Values Percentage of PassengerId Feature is 0.076 %\n",
      "Missing Values Percentage of pclass Feature is 0.076 %\n",
      "Missing Values Percentage of survived Feature is 0.076 %\n",
      "Missing Values Percentage of name Feature is 0.076 %\n",
      "Missing Values Percentage of sex Feature is 0.076 %\n",
      "Missing Values Percentage of age Feature is 20.153 %\n",
      "Missing Values Percentage of sibsp Feature is 0.076 %\n",
      "Missing Values Percentage of parch Feature is 0.076 %\n",
      "Missing Values Percentage of ticket Feature is 0.076 %\n",
      "Missing Values Percentage of fare Feature is 0.153 %\n",
      "Missing Values Percentage of cabin Feature is 77.481 %\n",
      "Missing Values Percentage of embarked Feature is 0.229 %\n",
      "Missing Values Percentage of boat Feature is 62.901 %\n",
      "Missing Values Percentage of body Feature is 90.763 %\n",
      "Missing Values Percentage of home.dest Feature is 43.13 %\n"
     ]
    }
   ],
   "source": [
    "columns = ['PassengerId', 'pclass', 'survived', 'name', 'sex', 'age', 'sibsp',\n",
    "       'parch', 'ticket', 'fare', 'cabin', 'embarked', 'boat', 'body',\n",
    "       'home.dest']\n",
    "\n",
    "for col in columns:\n",
    "    NansPercentage(col, df)"
   ]
  },
  {
   "cell_type": "markdown",
   "id": "dda3b4b8-8b2d-491d-8e42-10b68c874309",
   "metadata": {},
   "source": [
    "### 3.2.1 Analysis Output <a id=3.2.1></a>\n",
    "- **PassengerId**: 1 missing value\n",
    "- **pclass**: 1 missing value\n",
    "- **survived**: 1 missing value\n",
    "- **name**: 1 missing value\n",
    "- **sex**: 1 missing value\n",
    "- **age**: 264 missing values\n",
    "- **sibsp**: 1 missing value\n",
    "- **parch**: 1 missing value\n",
    "- **ticket**: 1 missing value\n",
    "- **fare**: 2 missing values\n",
    "- **cabin**: 1015 missing values\n",
    "- **embarked**: 3 missing values\n",
    "- **boat**: 824 missing values\n",
    "- **body**: 1189 missing values\n",
    "- **home.dest**: 565 missing values"
   ]
  },
  {
   "cell_type": "markdown",
   "id": "c09f20bd-d77c-4ffe-a1c2-1559f31ef7e4",
   "metadata": {},
   "source": [
    "## 3.3 Unique Values <a id=3.3></a>"
   ]
  },
  {
   "cell_type": "code",
   "execution_count": 114,
   "id": "ba3923f4-f8cb-4e70-a41e-0a042b473bf8",
   "metadata": {},
   "outputs": [
    {
     "data": {
      "text/html": [
       "<div>\n",
       "<style scoped>\n",
       "    .dataframe tbody tr th:only-of-type {\n",
       "        vertical-align: middle;\n",
       "    }\n",
       "\n",
       "    .dataframe tbody tr th {\n",
       "        vertical-align: top;\n",
       "    }\n",
       "\n",
       "    .dataframe thead th {\n",
       "        text-align: right;\n",
       "    }\n",
       "</style>\n",
       "<table border=\"1\" class=\"dataframe\">\n",
       "  <thead>\n",
       "    <tr style=\"text-align: right;\">\n",
       "      <th></th>\n",
       "      <th>Unique Values</th>\n",
       "    </tr>\n",
       "  </thead>\n",
       "  <tbody>\n",
       "    <tr>\n",
       "      <th>PassengerId</th>\n",
       "      <td>1309</td>\n",
       "    </tr>\n",
       "    <tr>\n",
       "      <th>pclass</th>\n",
       "      <td>3</td>\n",
       "    </tr>\n",
       "    <tr>\n",
       "      <th>survived</th>\n",
       "      <td>2</td>\n",
       "    </tr>\n",
       "    <tr>\n",
       "      <th>name</th>\n",
       "      <td>1307</td>\n",
       "    </tr>\n",
       "    <tr>\n",
       "      <th>sex</th>\n",
       "      <td>2</td>\n",
       "    </tr>\n",
       "    <tr>\n",
       "      <th>age</th>\n",
       "      <td>98</td>\n",
       "    </tr>\n",
       "    <tr>\n",
       "      <th>sibsp</th>\n",
       "      <td>7</td>\n",
       "    </tr>\n",
       "    <tr>\n",
       "      <th>parch</th>\n",
       "      <td>8</td>\n",
       "    </tr>\n",
       "    <tr>\n",
       "      <th>ticket</th>\n",
       "      <td>929</td>\n",
       "    </tr>\n",
       "    <tr>\n",
       "      <th>fare</th>\n",
       "      <td>281</td>\n",
       "    </tr>\n",
       "    <tr>\n",
       "      <th>cabin</th>\n",
       "      <td>186</td>\n",
       "    </tr>\n",
       "    <tr>\n",
       "      <th>embarked</th>\n",
       "      <td>3</td>\n",
       "    </tr>\n",
       "    <tr>\n",
       "      <th>boat</th>\n",
       "      <td>27</td>\n",
       "    </tr>\n",
       "    <tr>\n",
       "      <th>body</th>\n",
       "      <td>121</td>\n",
       "    </tr>\n",
       "    <tr>\n",
       "      <th>home.dest</th>\n",
       "      <td>369</td>\n",
       "    </tr>\n",
       "  </tbody>\n",
       "</table>\n",
       "</div>"
      ],
      "text/plain": [
       "             Unique Values\n",
       "PassengerId           1309\n",
       "pclass                   3\n",
       "survived                 2\n",
       "name                  1307\n",
       "sex                      2\n",
       "age                     98\n",
       "sibsp                    7\n",
       "parch                    8\n",
       "ticket                 929\n",
       "fare                   281\n",
       "cabin                  186\n",
       "embarked                 3\n",
       "boat                    27\n",
       "body                   121\n",
       "home.dest              369"
      ]
     },
     "execution_count": 114,
     "metadata": {},
     "output_type": "execute_result"
    }
   ],
   "source": [
    "pd.DataFrame(df.nunique(), columns=['Unique Values'])"
   ]
  },
  {
   "cell_type": "markdown",
   "id": "6d15a75a-9968-49e6-8d8b-e75f35101f5d",
   "metadata": {},
   "source": [
    "* As per above table we can classify below features as categorical variables:\n",
    "    * \"pclass\", \"survived\", 'sex', 'sibsp', 'ticket', 'cabin', 'embarked', 'boat', 'home.dest'"
   ]
  },
  {
   "cell_type": "markdown",
   "id": "5d3ca13b-1936-4124-9ef2-4f615915e5b7",
   "metadata": {},
   "source": [
    "## 3.4 Drop Some Variables\n",
    "_For now i can say that , \"body\" and \"home.dest\" is not required for our analysis , so let's remove them!_"
   ]
  },
  {
   "cell_type": "code",
   "execution_count": 115,
   "id": "6a0e0393-6251-4ae5-8d8e-f0eae1c292a6",
   "metadata": {},
   "outputs": [],
   "source": [
    "df.drop(columns=['body', 'home.dest', 'cabin', 'PassengerId', 'ticket'], axis=1, inplace=True)"
   ]
  },
  {
   "cell_type": "code",
   "execution_count": 116,
   "id": "505b67b4-0014-42bd-a226-0c56678d7593",
   "metadata": {},
   "outputs": [
    {
     "data": {
      "text/html": [
       "<div>\n",
       "<style scoped>\n",
       "    .dataframe tbody tr th:only-of-type {\n",
       "        vertical-align: middle;\n",
       "    }\n",
       "\n",
       "    .dataframe tbody tr th {\n",
       "        vertical-align: top;\n",
       "    }\n",
       "\n",
       "    .dataframe thead th {\n",
       "        text-align: right;\n",
       "    }\n",
       "</style>\n",
       "<table border=\"1\" class=\"dataframe\">\n",
       "  <thead>\n",
       "    <tr style=\"text-align: right;\">\n",
       "      <th></th>\n",
       "      <th>pclass</th>\n",
       "      <th>survived</th>\n",
       "      <th>name</th>\n",
       "      <th>sex</th>\n",
       "      <th>age</th>\n",
       "      <th>sibsp</th>\n",
       "      <th>parch</th>\n",
       "      <th>fare</th>\n",
       "      <th>embarked</th>\n",
       "      <th>boat</th>\n",
       "    </tr>\n",
       "  </thead>\n",
       "  <tbody>\n",
       "    <tr>\n",
       "      <th>0</th>\n",
       "      <td>1.0</td>\n",
       "      <td>1.0</td>\n",
       "      <td>Allen, Miss. Elisabeth Walton</td>\n",
       "      <td>female</td>\n",
       "      <td>29.0000</td>\n",
       "      <td>0.0</td>\n",
       "      <td>0.0</td>\n",
       "      <td>211.3375</td>\n",
       "      <td>S</td>\n",
       "      <td>2</td>\n",
       "    </tr>\n",
       "    <tr>\n",
       "      <th>1</th>\n",
       "      <td>1.0</td>\n",
       "      <td>1.0</td>\n",
       "      <td>Allison, Master. Hudson Trevor</td>\n",
       "      <td>male</td>\n",
       "      <td>0.9167</td>\n",
       "      <td>1.0</td>\n",
       "      <td>2.0</td>\n",
       "      <td>151.5500</td>\n",
       "      <td>S</td>\n",
       "      <td>11</td>\n",
       "    </tr>\n",
       "  </tbody>\n",
       "</table>\n",
       "</div>"
      ],
      "text/plain": [
       "   pclass  survived                            name     sex      age  sibsp  \\\n",
       "0     1.0       1.0   Allen, Miss. Elisabeth Walton  female  29.0000    0.0   \n",
       "1     1.0       1.0  Allison, Master. Hudson Trevor    male   0.9167    1.0   \n",
       "\n",
       "   parch      fare embarked boat  \n",
       "0    0.0  211.3375        S    2  \n",
       "1    2.0  151.5500        S   11  "
      ]
     },
     "execution_count": 116,
     "metadata": {},
     "output_type": "execute_result"
    }
   ],
   "source": [
    "# Let's check dataframe\n",
    "df.head(2)"
   ]
  },
  {
   "cell_type": "markdown",
   "id": "3cd7c891-dbb6-48a6-a1f2-f592c874134f",
   "metadata": {},
   "source": [
    "# 4. Data Cleaning <a id=4></a>"
   ]
  },
  {
   "cell_type": "markdown",
   "id": "8022a53f-d260-4d3d-86a7-06c0c8646a65",
   "metadata": {},
   "source": [
    "## 4.1 Drop Rows Which Are NaNs <a id=4.1></a>"
   ]
  },
  {
   "cell_type": "code",
   "execution_count": 117,
   "id": "cb9566f0-06bb-4113-a6d5-fd1a921c163a",
   "metadata": {},
   "outputs": [],
   "source": [
    "df.dropna(how='all', inplace=True)"
   ]
  },
  {
   "cell_type": "code",
   "execution_count": 118,
   "id": "d3d5c5f2-db63-4b38-9431-ca0bad5c51b2",
   "metadata": {},
   "outputs": [
    {
     "name": "stdout",
     "output_type": "stream",
     "text": [
      "<class 'pandas.core.frame.DataFrame'>\n",
      "Index: 1309 entries, 0 to 1308\n",
      "Data columns (total 10 columns):\n",
      " #   Column    Non-Null Count  Dtype  \n",
      "---  ------    --------------  -----  \n",
      " 0   pclass    1309 non-null   float64\n",
      " 1   survived  1309 non-null   float64\n",
      " 2   name      1309 non-null   object \n",
      " 3   sex       1309 non-null   object \n",
      " 4   age       1046 non-null   float64\n",
      " 5   sibsp     1309 non-null   float64\n",
      " 6   parch     1309 non-null   float64\n",
      " 7   fare      1308 non-null   float64\n",
      " 8   embarked  1307 non-null   object \n",
      " 9   boat      486 non-null    object \n",
      "dtypes: float64(6), object(4)\n",
      "memory usage: 112.5+ KB\n"
     ]
    }
   ],
   "source": [
    "df.info()"
   ]
  },
  {
   "cell_type": "markdown",
   "id": "9c93ae52-f5d7-4098-8203-344100401703",
   "metadata": {},
   "source": [
    "## 4.2 Age Variable's Missing Values <a id=4.2></a>"
   ]
  },
  {
   "cell_type": "code",
   "execution_count": 119,
   "id": "711541a6-e220-4f21-90c0-e4804fb9667a",
   "metadata": {},
   "outputs": [
    {
     "data": {
      "text/html": [
       "<div>\n",
       "<style scoped>\n",
       "    .dataframe tbody tr th:only-of-type {\n",
       "        vertical-align: middle;\n",
       "    }\n",
       "\n",
       "    .dataframe tbody tr th {\n",
       "        vertical-align: top;\n",
       "    }\n",
       "\n",
       "    .dataframe thead th {\n",
       "        text-align: right;\n",
       "    }\n",
       "</style>\n",
       "<table border=\"1\" class=\"dataframe\">\n",
       "  <thead>\n",
       "    <tr style=\"text-align: right;\">\n",
       "      <th></th>\n",
       "      <th>pclass</th>\n",
       "      <th>age</th>\n",
       "    </tr>\n",
       "  </thead>\n",
       "  <tbody>\n",
       "    <tr>\n",
       "      <th>0</th>\n",
       "      <td>1.0</td>\n",
       "      <td>39.159918</td>\n",
       "    </tr>\n",
       "    <tr>\n",
       "      <th>1</th>\n",
       "      <td>2.0</td>\n",
       "      <td>29.506705</td>\n",
       "    </tr>\n",
       "    <tr>\n",
       "      <th>2</th>\n",
       "      <td>3.0</td>\n",
       "      <td>24.816367</td>\n",
       "    </tr>\n",
       "  </tbody>\n",
       "</table>\n",
       "</div>"
      ],
      "text/plain": [
       "   pclass        age\n",
       "0     1.0  39.159918\n",
       "1     2.0  29.506705\n",
       "2     3.0  24.816367"
      ]
     },
     "execution_count": 119,
     "metadata": {},
     "output_type": "execute_result"
    }
   ],
   "source": [
    "age_mean_df = df.groupby(['pclass'])['age'].mean().reset_index()\n",
    "age_mean_df"
   ]
  },
  {
   "cell_type": "code",
   "execution_count": 120,
   "id": "89681fff-ef76-487e-b77e-b0390af5e22f",
   "metadata": {},
   "outputs": [],
   "source": [
    "def fillna_age(columns):\n",
    "    \"\"\" columns -> list\"\"\"\n",
    "    age = columns[0]\n",
    "    pclass = columns[1]\n",
    "\n",
    "    if pd.isnull(age):\n",
    "        if pclass == 1:\n",
    "            return 39\n",
    "        elif pclass == 2:\n",
    "            return 29\n",
    "        else:\n",
    "            return 24\n",
    "    else:\n",
    "        return age"
   ]
  },
  {
   "cell_type": "code",
   "execution_count": 121,
   "id": "9c453de7-c4d3-4b66-9452-debdfa2957ad",
   "metadata": {},
   "outputs": [],
   "source": [
    "# Apply method to 'age' variable in order to fill NaNs\n",
    "df['age'] = df[['age', 'pclass']].apply(fillna_age, axis=1) "
   ]
  },
  {
   "cell_type": "markdown",
   "id": "250d69c5-5305-44bd-b749-d096cbd94c05",
   "metadata": {},
   "source": [
    "**Using Mean Imputation to Handle Missing Values**:\n",
    "    * t calculates the mean age for each passenger class (pclass) by grouping the DataFrame (df) by the 'pclass' column and calculating the mean of the 'age' column for each group. The result is stored in a new DataFrame called 'age_mean_df'."
   ]
  },
  {
   "cell_type": "markdown",
   "id": "06f95120-8a20-4054-a745-a8c71a20bb11",
   "metadata": {},
   "source": [
    "## 4.3 Fare Variable's Missing Values <a id=4.3></a>\n",
    "\n",
    "_As there is only one row with missed value for Fare, i will just drop it. Take It Easy!_"
   ]
  },
  {
   "cell_type": "code",
   "execution_count": 122,
   "id": "26fc5cfb-4ec8-415e-bbca-e419ea79ad8a",
   "metadata": {},
   "outputs": [],
   "source": [
    "df.dropna(subset = ['fare'], inplace = True)"
   ]
  },
  {
   "cell_type": "code",
   "execution_count": 123,
   "id": "9e0d44ea-f5fd-4472-847d-fe72fcfe4e17",
   "metadata": {},
   "outputs": [
    {
     "name": "stdout",
     "output_type": "stream",
     "text": [
      "<class 'pandas.core.frame.DataFrame'>\n",
      "Index: 1308 entries, 0 to 1308\n",
      "Data columns (total 10 columns):\n",
      " #   Column    Non-Null Count  Dtype  \n",
      "---  ------    --------------  -----  \n",
      " 0   pclass    1308 non-null   float64\n",
      " 1   survived  1308 non-null   float64\n",
      " 2   name      1308 non-null   object \n",
      " 3   sex       1308 non-null   object \n",
      " 4   age       1308 non-null   float64\n",
      " 5   sibsp     1308 non-null   float64\n",
      " 6   parch     1308 non-null   float64\n",
      " 7   fare      1308 non-null   float64\n",
      " 8   embarked  1306 non-null   object \n",
      " 9   boat      486 non-null    object \n",
      "dtypes: float64(6), object(4)\n",
      "memory usage: 112.4+ KB\n"
     ]
    }
   ],
   "source": [
    "df.info()"
   ]
  },
  {
   "cell_type": "markdown",
   "id": "0d08e0c5-4ea7-45d2-b38e-31341fbebfe7",
   "metadata": {},
   "source": [
    "## 4.4 Embarked Variable's Missing Values <a id=4.4></a>\n",
    "_This variable does not have that much importance for me, i just wanna do some visualization with it._"
   ]
  },
  {
   "cell_type": "code",
   "execution_count": 124,
   "id": "c5a38b82-764b-4615-be4a-fc875866c91e",
   "metadata": {},
   "outputs": [],
   "source": [
    "df.fillna(value={'embarked': df['embarked'].mode()[0]}, inplace= True)"
   ]
  },
  {
   "cell_type": "markdown",
   "id": "5b6a56e3-2dcf-407c-8acf-ebc1ace45065",
   "metadata": {},
   "source": [
    "## 4.5 Boat Variable's Missing Values"
   ]
  },
  {
   "cell_type": "markdown",
   "id": "620c72c2-b46e-4620-8141-206044eebcf8",
   "metadata": {},
   "source": [
    "***NaNs Value of boat and survived : 1***"
   ]
  },
  {
   "cell_type": "code",
   "execution_count": 125,
   "id": "95f8702d-1b68-43ca-98e5-485ac67a8ac7",
   "metadata": {},
   "outputs": [],
   "source": [
    "# condition for filling missing values\n",
    "condition = (df['survived'] == 1) & (df['boat'].isnull())\n",
    "\n",
    "# Calculate the mode of the \"boat\" column\n",
    "boat_mode = df['boat'].mode()[0]\n",
    "\n",
    "# Use fillna() to replace missing values based on the condition\n",
    "df.loc[condition, 'boat'] = boat_mode"
   ]
  },
  {
   "cell_type": "markdown",
   "id": "65bbca57-94ca-4a2c-a75c-2a5ff73b04df",
   "metadata": {},
   "source": [
    "***NaNs Value of boat and survived : 0***"
   ]
  },
  {
   "cell_type": "code",
   "execution_count": 126,
   "id": "c61a4d38-d908-4385-9cef-abb24f8fd010",
   "metadata": {},
   "outputs": [],
   "source": [
    "#imputing based on Pclass and Sex\n",
    "boat_mode_by_class_sex = df.groupby(['pclass', 'sex'])['boat'].transform(lambda x: x.mode()[0])\n",
    "df['boat'].fillna(boat_mode_by_class_sex, inplace=True)"
   ]
  },
  {
   "cell_type": "markdown",
   "id": "a0c0c64d-5cf5-4c69-8971-bfe8cd8aa839",
   "metadata": {},
   "source": [
    "## 4.6 Seperating Name & Surname <a id=4.6></a>"
   ]
  },
  {
   "cell_type": "code",
   "execution_count": 127,
   "id": "a030a26e-d758-4d86-894b-b8ab19e8d1e9",
   "metadata": {},
   "outputs": [],
   "source": [
    "df[['last_name', 'title', 'first_name', 'middle_name']] = df['name'].str.split(', |\\.', expand=True)\n",
    "df.drop(columns=['name', 'middle_name'], inplace = True)"
   ]
  },
  {
   "cell_type": "code",
   "execution_count": 128,
   "id": "5e3a4daa-f268-4a25-a886-6f6b84b22245",
   "metadata": {},
   "outputs": [
    {
     "data": {
      "text/html": [
       "<div>\n",
       "<style scoped>\n",
       "    .dataframe tbody tr th:only-of-type {\n",
       "        vertical-align: middle;\n",
       "    }\n",
       "\n",
       "    .dataframe tbody tr th {\n",
       "        vertical-align: top;\n",
       "    }\n",
       "\n",
       "    .dataframe thead th {\n",
       "        text-align: right;\n",
       "    }\n",
       "</style>\n",
       "<table border=\"1\" class=\"dataframe\">\n",
       "  <thead>\n",
       "    <tr style=\"text-align: right;\">\n",
       "      <th></th>\n",
       "      <th>pclass</th>\n",
       "      <th>survived</th>\n",
       "      <th>sex</th>\n",
       "      <th>age</th>\n",
       "      <th>sibsp</th>\n",
       "      <th>parch</th>\n",
       "      <th>fare</th>\n",
       "      <th>embarked</th>\n",
       "      <th>boat</th>\n",
       "      <th>last_name</th>\n",
       "      <th>title</th>\n",
       "      <th>first_name</th>\n",
       "    </tr>\n",
       "  </thead>\n",
       "  <tbody>\n",
       "    <tr>\n",
       "      <th>0</th>\n",
       "      <td>1.0</td>\n",
       "      <td>1.0</td>\n",
       "      <td>female</td>\n",
       "      <td>29.0000</td>\n",
       "      <td>0.0</td>\n",
       "      <td>0.0</td>\n",
       "      <td>211.3375</td>\n",
       "      <td>S</td>\n",
       "      <td>2</td>\n",
       "      <td>Allen</td>\n",
       "      <td>Miss</td>\n",
       "      <td>Elisabeth Walton</td>\n",
       "    </tr>\n",
       "    <tr>\n",
       "      <th>1</th>\n",
       "      <td>1.0</td>\n",
       "      <td>1.0</td>\n",
       "      <td>male</td>\n",
       "      <td>0.9167</td>\n",
       "      <td>1.0</td>\n",
       "      <td>2.0</td>\n",
       "      <td>151.5500</td>\n",
       "      <td>S</td>\n",
       "      <td>11</td>\n",
       "      <td>Allison</td>\n",
       "      <td>Master</td>\n",
       "      <td>Hudson Trevor</td>\n",
       "    </tr>\n",
       "    <tr>\n",
       "      <th>2</th>\n",
       "      <td>1.0</td>\n",
       "      <td>0.0</td>\n",
       "      <td>female</td>\n",
       "      <td>2.0000</td>\n",
       "      <td>1.0</td>\n",
       "      <td>2.0</td>\n",
       "      <td>151.5500</td>\n",
       "      <td>S</td>\n",
       "      <td>8</td>\n",
       "      <td>Allison</td>\n",
       "      <td>Miss</td>\n",
       "      <td>Helen Loraine</td>\n",
       "    </tr>\n",
       "    <tr>\n",
       "      <th>3</th>\n",
       "      <td>1.0</td>\n",
       "      <td>0.0</td>\n",
       "      <td>male</td>\n",
       "      <td>30.0000</td>\n",
       "      <td>1.0</td>\n",
       "      <td>2.0</td>\n",
       "      <td>151.5500</td>\n",
       "      <td>S</td>\n",
       "      <td>3</td>\n",
       "      <td>Allison</td>\n",
       "      <td>Mr</td>\n",
       "      <td>Hudson Joshua Creighton</td>\n",
       "    </tr>\n",
       "    <tr>\n",
       "      <th>4</th>\n",
       "      <td>1.0</td>\n",
       "      <td>0.0</td>\n",
       "      <td>female</td>\n",
       "      <td>25.0000</td>\n",
       "      <td>1.0</td>\n",
       "      <td>2.0</td>\n",
       "      <td>151.5500</td>\n",
       "      <td>S</td>\n",
       "      <td>8</td>\n",
       "      <td>Allison</td>\n",
       "      <td>Mrs</td>\n",
       "      <td>Hudson J C (Bessie Waldo Daniels)</td>\n",
       "    </tr>\n",
       "  </tbody>\n",
       "</table>\n",
       "</div>"
      ],
      "text/plain": [
       "   pclass  survived     sex      age  sibsp  parch      fare embarked boat  \\\n",
       "0     1.0       1.0  female  29.0000    0.0    0.0  211.3375        S    2   \n",
       "1     1.0       1.0    male   0.9167    1.0    2.0  151.5500        S   11   \n",
       "2     1.0       0.0  female   2.0000    1.0    2.0  151.5500        S    8   \n",
       "3     1.0       0.0    male  30.0000    1.0    2.0  151.5500        S    3   \n",
       "4     1.0       0.0  female  25.0000    1.0    2.0  151.5500        S    8   \n",
       "\n",
       "  last_name   title                          first_name  \n",
       "0     Allen    Miss                    Elisabeth Walton  \n",
       "1   Allison  Master                       Hudson Trevor  \n",
       "2   Allison    Miss                       Helen Loraine  \n",
       "3   Allison      Mr             Hudson Joshua Creighton  \n",
       "4   Allison     Mrs   Hudson J C (Bessie Waldo Daniels)  "
      ]
     },
     "execution_count": 128,
     "metadata": {},
     "output_type": "execute_result"
    }
   ],
   "source": [
    "df.head()"
   ]
  },
  {
   "cell_type": "markdown",
   "id": "7f4b9ecc-cb28-4eb4-8228-d0b997b4276b",
   "metadata": {},
   "source": [
    "## 4.7 Correcting Data Types"
   ]
  },
  {
   "cell_type": "code",
   "execution_count": 129,
   "id": "a637b8c2-e7a5-4a39-a895-d14768cd1329",
   "metadata": {},
   "outputs": [],
   "source": [
    "def dtype(col, dtype=int):\n",
    "    df[col] = pd.to_numeric(df[col])\n",
    "    df[col] = df[col].astype(dtype)"
   ]
  },
  {
   "cell_type": "code",
   "execution_count": 130,
   "id": "924cb9a6-b887-4143-89a8-511834828cee",
   "metadata": {},
   "outputs": [],
   "source": [
    "dtype('pclass')"
   ]
  },
  {
   "cell_type": "code",
   "execution_count": 131,
   "id": "b2628226-98e3-4973-b1d2-303fba78e2af",
   "metadata": {},
   "outputs": [],
   "source": [
    "dtype('survived')"
   ]
  },
  {
   "cell_type": "code",
   "execution_count": 132,
   "id": "9fae1d28-6a89-4968-9ce0-260509955483",
   "metadata": {},
   "outputs": [],
   "source": [
    "dtype('age')"
   ]
  },
  {
   "cell_type": "code",
   "execution_count": 133,
   "id": "68d11983-024b-42c8-b93e-20f9e2ecb387",
   "metadata": {},
   "outputs": [],
   "source": [
    "dtype('sibsp')"
   ]
  },
  {
   "cell_type": "code",
   "execution_count": 134,
   "id": "7d5c66c2-d23f-4172-9012-b1ee50a447e1",
   "metadata": {},
   "outputs": [],
   "source": [
    "dtype('parch')"
   ]
  },
  {
   "cell_type": "code",
   "execution_count": 135,
   "id": "d30c89a1-340e-4818-9854-a73977e2eea5",
   "metadata": {},
   "outputs": [],
   "source": [
    "dtype('fare', dtype=float)"
   ]
  },
  {
   "cell_type": "markdown",
   "id": "b1d4ba3f-24ba-418c-bff2-96787ca941db",
   "metadata": {},
   "source": [
    "# 5. EDA"
   ]
  },
  {
   "cell_type": "code",
   "execution_count": 136,
   "id": "86c4612e-9727-4466-8366-e45013db0500",
   "metadata": {},
   "outputs": [],
   "source": [
    "title_font = {\"color\" : \"darkblue\", \"weight\" : \"bold\", \"size\" : 15}\n",
    "axis_font = {\"color\" : \"darkblue\", \"weight\" : \"bold\", \"size\" : 10}"
   ]
  },
  {
   "cell_type": "markdown",
   "id": "83cddda0-9ec0-41e8-9c31-03b4e48a5ce9",
   "metadata": {},
   "source": [
    "## 5.1 Survived Passenger"
   ]
  },
  {
   "cell_type": "code",
   "execution_count": 137,
   "id": "5a724ff8-9c74-486f-92c3-ff64678c2e9c",
   "metadata": {},
   "outputs": [
    {
     "data": {
      "image/png": "[encoded data removed]",
      "text/plain": [
       "<Figure size 640x480 with 1 Axes>"
      ]
     },
     "metadata": {},
     "output_type": "display_data"
    }
   ],
   "source": [
    "sns.set(style=\"whitegrid\")\n",
    "sns.countplot(x = 'survived', data = df, palette = 'viridis')    \n",
    "plt.title(\"Survival Distribution (0: No, 1: Yes)\", fontdict=title_font)  \n",
    "plt.ylabel(\"Survived\", fontdict=axis_font)                     \n",
    "plt.xlabel(\"Count\", fontdict=axis_font)\n",
    "plt.show()"
   ]
  },
  {
   "cell_type": "code",
   "execution_count": 138,
   "id": "b6fd64aa-8e36-4cfc-ab1d-36be57a96f5a",
   "metadata": {},
   "outputs": [
    {
     "data": {
      "image/png": "[encoded data removed]",
      "text/plain": [
       "<Figure size 600x600 with 1 Axes>"
      ]
     },
     "metadata": {},
     "output_type": "display_data"
    }
   ],
   "source": [
    "# Calculate survival counts\n",
    "survival_counts = df['survived'].value_counts()\n",
    "\n",
    "# Plotting a pie chart\n",
    "plt.figure(figsize=(6, 6))\n",
    "plt.pie(survival_counts, labels=['Not Survived', 'Survived'], autopct='%1.1f%%', colors=['#ff9999','#66b3ff'])\n",
    "plt.title(\"Survival Distribution\", fontdict=title_font) \n",
    "plt.show()\n"
   ]
  },
  {
   "cell_type": "markdown",
   "id": "2504be4f-151b-4ed3-8577-d5c145f44c71",
   "metadata": {},
   "source": [
    "### 5.2.1 Survived Passenger's By Sex <a id=5.2.1></a>"
   ]
  },
  {
   "cell_type": "code",
   "execution_count": 139,
   "id": "5df141bc-4773-4e09-88a8-93e3437f9d78",
   "metadata": {},
   "outputs": [
    {
     "data": {
      "image/png": "[encoded data removed]",
      "text/plain": [
       "<Figure size 640x480 with 1 Axes>"
      ]
     },
     "metadata": {},
     "output_type": "display_data"
    }
   ],
   "source": [
    "sns.set_style('darkgrid')\n",
    "sns.countplot(x='pclass',hue='sex', data=df, palette='viridis')\n",
    "plt.show()"
   ]
  },
  {
   "cell_type": "markdown",
   "id": "729e9374-f890-4fb4-be00-bc78f4ad775f",
   "metadata": {},
   "source": [
    "### 5.2.2 Survived Passenger's By Class"
   ]
  },
  {
   "cell_type": "code",
   "execution_count": 140,
   "id": "b46bfc3e-916e-48df-a506-abf4ac718cf5",
   "metadata": {},
   "outputs": [
    {
     "data": {
      "image/png": "[encoded data removed]",
      "text/plain": [
       "<Figure size 640x480 with 1 Axes>"
      ]
     },
     "metadata": {},
     "output_type": "display_data"
    }
   ],
   "source": [
    "sns.set_style('darkgrid')\n",
    "sns.countplot(x='pclass',hue='pclass', data=df, palette='viridis')\n",
    "plt.show()"
   ]
  },
  {
   "cell_type": "markdown",
   "id": "5fd4c3a2-21a4-49df-aa22-a0a815b01220",
   "metadata": {},
   "source": [
    "## 5.2 Number Of Passenger Per pclass <a id=5.2></a>"
   ]
  },
  {
   "cell_type": "code",
   "execution_count": 141,
   "id": "dd194856-8987-4a77-b42a-3830f71b6a7c",
   "metadata": {},
   "outputs": [
    {
     "data": {
      "image/png": "[encoded data removed]",
      "text/plain": [
       "<Figure size 640x480 with 1 Axes>"
      ]
     },
     "metadata": {},
     "output_type": "display_data"
    }
   ],
   "source": [
    "sns.set(style = 'whitegrid')\n",
    "sns.countplot(x = 'pclass', data = df , palette = 'viridis')\n",
    "plt.title(\"Passenger Class Distribution\", fontdict=title_font)\n",
    "plt.ylabel('Count', fontdict=axis_font)\n",
    "plt.xlabel(\"Class\", fontdict=axis_font)\n",
    "plt.show()"
   ]
  },
  {
   "cell_type": "code",
   "execution_count": 142,
   "id": "1ac9a6b5-bb2f-4ddd-b294-57071ef713b1",
   "metadata": {},
   "outputs": [
    {
     "data": {
      "image/png": "[encoded data removed]",
      "text/plain": [
       "<Figure size 600x600 with 1 Axes>"
      ]
     },
     "metadata": {},
     "output_type": "display_data"
    }
   ],
   "source": [
    "class_counts = df['pclass'].value_counts()\n",
    "\n",
    "# Plotting a pie chart\n",
    "plt.figure(figsize=(6, 6))\n",
    "plt.pie(class_counts, labels=class_counts.index, autopct='%1.1f%%')\n",
    "plt.title(\"Survival Distribution\", fontdict=title_font)\n",
    "plt.show()"
   ]
  },
  {
   "cell_type": "markdown",
   "id": "bf235f93-4598-4e4a-a7bc-f5835fb0a546",
   "metadata": {},
   "source": [
    "## 5.3 Count Of Passengers By Sex <a id=5.3></a>"
   ]
  },
  {
   "cell_type": "code",
   "execution_count": 143,
   "id": "b8ce09e0-4e55-4f44-8c0b-feb3f172ca0f",
   "metadata": {},
   "outputs": [
    {
     "data": {
      "image/png": "[encoded data removed]",
      "text/plain": [
       "<Figure size 640x480 with 1 Axes>"
      ]
     },
     "metadata": {},
     "output_type": "display_data"
    }
   ],
   "source": [
    "sns.countplot(x='sex', data=df, palette='pastel')\n",
    "plt.title('Passenger Count by Gender')\n",
    "plt.xlabel('Gender')\n",
    "plt.ylabel('Count')\n",
    "plt.show()"
   ]
  },
  {
   "cell_type": "code",
   "execution_count": 144,
   "id": "ed9cf08b-54f1-4545-8064-e5ba1c3a84bf",
   "metadata": {},
   "outputs": [
    {
     "data": {
      "image/png": "[encoded data removed]",
      "text/plain": [
       "<Figure size 600x600 with 1 Axes>"
      ]
     },
     "metadata": {},
     "output_type": "display_data"
    }
   ],
   "source": [
    "gender_count = df['sex'].value_counts()\n",
    "\n",
    "# Plotting a pie chart\n",
    "plt.figure(figsize=(6, 6))\n",
    "plt.pie(gender_count, labels=gender_count.index, autopct='%1.1f%%')\n",
    "plt.title(\"Survival Distribution\", fontdict=title_font)\n",
    "plt.show()"
   ]
  },
  {
   "cell_type": "markdown",
   "id": "93a8320d-80d8-42a0-bf7d-812a57b84175",
   "metadata": {},
   "source": [
    "## 5.4 Passenger Count by Embarkation Port <a id=5.4></a>"
   ]
  },
  {
   "cell_type": "code",
   "execution_count": 145,
   "id": "d6cb9b0f-d6b2-49ed-8a78-30a9ec0555a5",
   "metadata": {},
   "outputs": [
    {
     "data": {
      "image/png": "[encoded data removed]",
      "text/plain": [
       "<Figure size 640x480 with 1 Axes>"
      ]
     },
     "metadata": {},
     "output_type": "display_data"
    }
   ],
   "source": [
    "sns.countplot(x='embarked', data=df, palette='rocket')\n",
    "plt.title('Passenger Count by Embarkation Port')\n",
    "plt.xlabel('Embarkation Port')\n",
    "plt.ylabel('Count')\n",
    "plt.show()"
   ]
  },
  {
   "cell_type": "markdown",
   "id": "6011291d-6cd5-416a-a360-fede98f59399",
   "metadata": {},
   "source": [
    "## 5.5 Passenger Count by Siblings/Spouses Aboard <a id=5.5></a>"
   ]
  },
  {
   "cell_type": "code",
   "execution_count": 146,
   "id": "0f0bef91-0a07-4d6f-a116-3a3d54179205",
   "metadata": {},
   "outputs": [
    {
     "data": {
      "image/png": "[encoded data removed]",
      "text/plain": [
       "<Figure size 640x480 with 1 Axes>"
      ]
     },
     "metadata": {},
     "output_type": "display_data"
    }
   ],
   "source": [
    "sns.countplot(x='sibsp', data=df, palette='muted')\n",
    "plt.title('Passenger Count by Siblings/Spouses Aboard')\n",
    "plt.xlabel('Number of Siblings/Spouses Aboard')\n",
    "plt.ylabel('Count')\n",
    "plt.show()"
   ]
  },
  {
   "cell_type": "markdown",
   "id": "f5eba966-50fe-448a-b99c-2e035721ad04",
   "metadata": {},
   "source": [
    "## 5.6 Number Of Passenger Within Life-Boats <a id=5.6></a>"
   ]
  },
  {
   "cell_type": "code",
   "execution_count": 147,
   "id": "a7f33b42-1023-4595-9341-7db8c6458536",
   "metadata": {},
   "outputs": [
    {
     "data": {
      "image/png": "[encoded data removed]",
      "text/plain": [
       "<Figure size 640x480 with 1 Axes>"
      ]
     },
     "metadata": {},
     "output_type": "display_data"
    }
   ],
   "source": [
    "sns.countplot(x='boat', data=df, palette='husl')\n",
    "plt.title('Passenger Count by Assigned Boat')\n",
    "plt.xlabel('Assigned Boat')\n",
    "plt.ylabel('Count')\n",
    "plt.xticks(rotation=45)\n",
    "plt.show()"
   ]
  },
  {
   "cell_type": "markdown",
   "id": "9287388e-4e6a-4f9f-b421-c8ede66c3e76",
   "metadata": {},
   "source": [
    "## 5.7 Boxplot For Age Variable <a id=5.7></a>"
   ]
  },
  {
   "cell_type": "code",
   "execution_count": 148,
   "id": "5a480de1-c4cc-4820-9ebb-7e2f6147634d",
   "metadata": {},
   "outputs": [
    {
     "data": {
      "text/plain": [
       "<AxesSubplot:xlabel='pclass', ylabel='age'>"
      ]
     },
     "execution_count": 148,
     "metadata": {},
     "output_type": "execute_result"
    },
    {
     "data": {
      "image/png": "[encoded data removed]",
      "text/plain": [
       "<Figure size 1000x600 with 1 Axes>"
      ]
     },
     "metadata": {},
     "output_type": "display_data"
    }
   ],
   "source": [
    "plt.figure(figsize=(10, 6))\n",
    "sns.boxplot(x='pclass', y='age', data=df)"
   ]
  },
  {
   "cell_type": "markdown",
   "id": "e414a782-3e27-4dfa-a90d-6c6977c22236",
   "metadata": {},
   "source": [
    "## 5.8 Age Distribution <a id=5.8></a>"
   ]
  },
  {
   "cell_type": "code",
   "execution_count": 149,
   "id": "dfddfda2-e857-4a17-ad0b-576029022f13",
   "metadata": {},
   "outputs": [
    {
     "data": {
      "text/plain": [
       "<Figure size 1000x600 with 0 Axes>"
      ]
     },
     "metadata": {},
     "output_type": "display_data"
    },
    {
     "data": {
      "image/png": "[encoded data removed]",
      "text/plain": [
       "<Figure size 500x500 with 1 Axes>"
      ]
     },
     "metadata": {},
     "output_type": "display_data"
    }
   ],
   "source": [
    "plt.figure(figsize=(10, 6))\n",
    "sns.displot(df['age'], color='darkblue', kde=True)\n",
    "plt.show()"
   ]
  },
  {
   "cell_type": "markdown",
   "id": "559559b4-2541-4b6f-aeb5-cc3179c1fb71",
   "metadata": {},
   "source": [
    "## 5.9 Fare Distribution <a id=5.9></a>"
   ]
  },
  {
   "cell_type": "code",
   "execution_count": 150,
   "id": "182556f8-a62d-4884-8449-41dff9c01c5c",
   "metadata": {},
   "outputs": [
    {
     "data": {
      "text/plain": [
       "<Figure size 1000x600 with 0 Axes>"
      ]
     },
     "metadata": {},
     "output_type": "display_data"
    },
    {
     "data": {
      "image/png": "[encoded data removed]",
      "text/plain": [
       "<Figure size 500x500 with 1 Axes>"
      ]
     },
     "metadata": {},
     "output_type": "display_data"
    }
   ],
   "source": [
    "plt.figure(figsize=(10, 6))\n",
    "sns.displot(df['fare'], color='darkblue', kde=True)\n",
    "plt.show()"
   ]
  },
  {
   "cell_type": "markdown",
   "id": "0814bedf-8b95-4ee2-a4cb-09c86f5290b0",
   "metadata": {},
   "source": [
    "# 6. Correlation Heatmap <a id=6></a>"
   ]
  },
  {
   "cell_type": "code",
   "execution_count": 151,
   "id": "2dc073a2-8c14-4def-bdac-31c6c03ef313",
   "metadata": {},
   "outputs": [
    {
     "data": {
      "image/png": "[encoded data removed]",
      "text/plain": [
       "<Figure size 1000x600 with 2 Axes>"
      ]
     },
     "metadata": {},
     "output_type": "display_data"
    }
   ],
   "source": [
    "plt.figure(figsize=(10, 6))\n",
    "sns.heatmap(df.corr(numeric_only=True), annot=True)\n",
    "plt.show()"
   ]
  },
  {
   "cell_type": "markdown",
   "id": "4d0ea652-68d4-4a99-bc94-075d49ef4785",
   "metadata": {},
   "source": [
    "# 7. One-Hot Encoding <a id=7></a>"
   ]
  },
  {
   "cell_type": "code",
   "execution_count": 152,
   "id": "3b25ea5f-d805-44ce-9871-137dae85522c",
   "metadata": {},
   "outputs": [
    {
     "data": {
      "text/html": [
       "<div>\n",
       "<style scoped>\n",
       "    .dataframe tbody tr th:only-of-type {\n",
       "        vertical-align: middle;\n",
       "    }\n",
       "\n",
       "    .dataframe tbody tr th {\n",
       "        vertical-align: top;\n",
       "    }\n",
       "\n",
       "    .dataframe thead th {\n",
       "        text-align: right;\n",
       "    }\n",
       "</style>\n",
       "<table border=\"1\" class=\"dataframe\">\n",
       "  <thead>\n",
       "    <tr style=\"text-align: right;\">\n",
       "      <th></th>\n",
       "      <th>pclass</th>\n",
       "      <th>survived</th>\n",
       "      <th>sex</th>\n",
       "      <th>age</th>\n",
       "      <th>sibsp</th>\n",
       "      <th>parch</th>\n",
       "      <th>fare</th>\n",
       "      <th>embarked</th>\n",
       "      <th>boat</th>\n",
       "      <th>last_name</th>\n",
       "      <th>title</th>\n",
       "      <th>first_name</th>\n",
       "    </tr>\n",
       "  </thead>\n",
       "  <tbody>\n",
       "    <tr>\n",
       "      <th>0</th>\n",
       "      <td>1</td>\n",
       "      <td>1</td>\n",
       "      <td>female</td>\n",
       "      <td>29</td>\n",
       "      <td>0</td>\n",
       "      <td>0</td>\n",
       "      <td>211.3375</td>\n",
       "      <td>S</td>\n",
       "      <td>2</td>\n",
       "      <td>Allen</td>\n",
       "      <td>Miss</td>\n",
       "      <td>Elisabeth Walton</td>\n",
       "    </tr>\n",
       "    <tr>\n",
       "      <th>1</th>\n",
       "      <td>1</td>\n",
       "      <td>1</td>\n",
       "      <td>male</td>\n",
       "      <td>0</td>\n",
       "      <td>1</td>\n",
       "      <td>2</td>\n",
       "      <td>151.5500</td>\n",
       "      <td>S</td>\n",
       "      <td>11</td>\n",
       "      <td>Allison</td>\n",
       "      <td>Master</td>\n",
       "      <td>Hudson Trevor</td>\n",
       "    </tr>\n",
       "    <tr>\n",
       "      <th>2</th>\n",
       "      <td>1</td>\n",
       "      <td>0</td>\n",
       "      <td>female</td>\n",
       "      <td>2</td>\n",
       "      <td>1</td>\n",
       "      <td>2</td>\n",
       "      <td>151.5500</td>\n",
       "      <td>S</td>\n",
       "      <td>8</td>\n",
       "      <td>Allison</td>\n",
       "      <td>Miss</td>\n",
       "      <td>Helen Loraine</td>\n",
       "    </tr>\n",
       "    <tr>\n",
       "      <th>3</th>\n",
       "      <td>1</td>\n",
       "      <td>0</td>\n",
       "      <td>male</td>\n",
       "      <td>30</td>\n",
       "      <td>1</td>\n",
       "      <td>2</td>\n",
       "      <td>151.5500</td>\n",
       "      <td>S</td>\n",
       "      <td>3</td>\n",
       "      <td>Allison</td>\n",
       "      <td>Mr</td>\n",
       "      <td>Hudson Joshua Creighton</td>\n",
       "    </tr>\n",
       "    <tr>\n",
       "      <th>4</th>\n",
       "      <td>1</td>\n",
       "      <td>0</td>\n",
       "      <td>female</td>\n",
       "      <td>25</td>\n",
       "      <td>1</td>\n",
       "      <td>2</td>\n",
       "      <td>151.5500</td>\n",
       "      <td>S</td>\n",
       "      <td>8</td>\n",
       "      <td>Allison</td>\n",
       "      <td>Mrs</td>\n",
       "      <td>Hudson J C (Bessie Waldo Daniels)</td>\n",
       "    </tr>\n",
       "  </tbody>\n",
       "</table>\n",
       "</div>"
      ],
      "text/plain": [
       "   pclass  survived     sex  age  sibsp  parch      fare embarked boat  \\\n",
       "0       1         1  female   29      0      0  211.3375        S    2   \n",
       "1       1         1    male    0      1      2  151.5500        S   11   \n",
       "2       1         0  female    2      1      2  151.5500        S    8   \n",
       "3       1         0    male   30      1      2  151.5500        S    3   \n",
       "4       1         0  female   25      1      2  151.5500        S    8   \n",
       "\n",
       "  last_name   title                          first_name  \n",
       "0     Allen    Miss                    Elisabeth Walton  \n",
       "1   Allison  Master                       Hudson Trevor  \n",
       "2   Allison    Miss                       Helen Loraine  \n",
       "3   Allison      Mr             Hudson Joshua Creighton  \n",
       "4   Allison     Mrs   Hudson J C (Bessie Waldo Daniels)  "
      ]
     },
     "execution_count": 152,
     "metadata": {},
     "output_type": "execute_result"
    }
   ],
   "source": [
    "df.head()"
   ]
  },
  {
   "cell_type": "code",
   "execution_count": 153,
   "id": "10003c09-7e57-4469-b306-a9833d835127",
   "metadata": {},
   "outputs": [],
   "source": [
    "# apply One-Hot Encoding on categorical variables\n",
    "sex = pd.get_dummies(df['sex'], dtype=int)\n",
    "embarked = pd.get_dummies(df['embarked'], dtype=int)"
   ]
  },
  {
   "cell_type": "code",
   "execution_count": 154,
   "id": "b3ca1231-fa64-4ce5-892c-31ed68d4a48b",
   "metadata": {},
   "outputs": [
    {
     "data": {
      "text/html": [
       "<div>\n",
       "<style scoped>\n",
       "    .dataframe tbody tr th:only-of-type {\n",
       "        vertical-align: middle;\n",
       "    }\n",
       "\n",
       "    .dataframe tbody tr th {\n",
       "        vertical-align: top;\n",
       "    }\n",
       "\n",
       "    .dataframe thead th {\n",
       "        text-align: right;\n",
       "    }\n",
       "</style>\n",
       "<table border=\"1\" class=\"dataframe\">\n",
       "  <thead>\n",
       "    <tr style=\"text-align: right;\">\n",
       "      <th></th>\n",
       "      <th>pclass</th>\n",
       "      <th>survived</th>\n",
       "      <th>sex</th>\n",
       "      <th>age</th>\n",
       "      <th>sibsp</th>\n",
       "      <th>parch</th>\n",
       "      <th>fare</th>\n",
       "      <th>embarked</th>\n",
       "      <th>boat</th>\n",
       "      <th>last_name</th>\n",
       "      <th>title</th>\n",
       "      <th>first_name</th>\n",
       "      <th>female</th>\n",
       "      <th>male</th>\n",
       "      <th>C</th>\n",
       "      <th>Q</th>\n",
       "      <th>S</th>\n",
       "    </tr>\n",
       "  </thead>\n",
       "  <tbody>\n",
       "    <tr>\n",
       "      <th>0</th>\n",
       "      <td>1</td>\n",
       "      <td>1</td>\n",
       "      <td>female</td>\n",
       "      <td>29</td>\n",
       "      <td>0</td>\n",
       "      <td>0</td>\n",
       "      <td>211.3375</td>\n",
       "      <td>S</td>\n",
       "      <td>2</td>\n",
       "      <td>Allen</td>\n",
       "      <td>Miss</td>\n",
       "      <td>Elisabeth Walton</td>\n",
       "      <td>1</td>\n",
       "      <td>0</td>\n",
       "      <td>0</td>\n",
       "      <td>0</td>\n",
       "      <td>1</td>\n",
       "    </tr>\n",
       "    <tr>\n",
       "      <th>1</th>\n",
       "      <td>1</td>\n",
       "      <td>1</td>\n",
       "      <td>male</td>\n",
       "      <td>0</td>\n",
       "      <td>1</td>\n",
       "      <td>2</td>\n",
       "      <td>151.5500</td>\n",
       "      <td>S</td>\n",
       "      <td>11</td>\n",
       "      <td>Allison</td>\n",
       "      <td>Master</td>\n",
       "      <td>Hudson Trevor</td>\n",
       "      <td>0</td>\n",
       "      <td>1</td>\n",
       "      <td>0</td>\n",
       "      <td>0</td>\n",
       "      <td>1</td>\n",
       "    </tr>\n",
       "    <tr>\n",
       "      <th>2</th>\n",
       "      <td>1</td>\n",
       "      <td>0</td>\n",
       "      <td>female</td>\n",
       "      <td>2</td>\n",
       "      <td>1</td>\n",
       "      <td>2</td>\n",
       "      <td>151.5500</td>\n",
       "      <td>S</td>\n",
       "      <td>8</td>\n",
       "      <td>Allison</td>\n",
       "      <td>Miss</td>\n",
       "      <td>Helen Loraine</td>\n",
       "      <td>1</td>\n",
       "      <td>0</td>\n",
       "      <td>0</td>\n",
       "      <td>0</td>\n",
       "      <td>1</td>\n",
       "    </tr>\n",
       "    <tr>\n",
       "      <th>3</th>\n",
       "      <td>1</td>\n",
       "      <td>0</td>\n",
       "      <td>male</td>\n",
       "      <td>30</td>\n",
       "      <td>1</td>\n",
       "      <td>2</td>\n",
       "      <td>151.5500</td>\n",
       "      <td>S</td>\n",
       "      <td>3</td>\n",
       "      <td>Allison</td>\n",
       "      <td>Mr</td>\n",
       "      <td>Hudson Joshua Creighton</td>\n",
       "      <td>0</td>\n",
       "      <td>1</td>\n",
       "      <td>0</td>\n",
       "      <td>0</td>\n",
       "      <td>1</td>\n",
       "    </tr>\n",
       "    <tr>\n",
       "      <th>4</th>\n",
       "      <td>1</td>\n",
       "      <td>0</td>\n",
       "      <td>female</td>\n",
       "      <td>25</td>\n",
       "      <td>1</td>\n",
       "      <td>2</td>\n",
       "      <td>151.5500</td>\n",
       "      <td>S</td>\n",
       "      <td>8</td>\n",
       "      <td>Allison</td>\n",
       "      <td>Mrs</td>\n",
       "      <td>Hudson J C (Bessie Waldo Daniels)</td>\n",
       "      <td>1</td>\n",
       "      <td>0</td>\n",
       "      <td>0</td>\n",
       "      <td>0</td>\n",
       "      <td>1</td>\n",
       "    </tr>\n",
       "  </tbody>\n",
       "</table>\n",
       "</div>"
      ],
      "text/plain": [
       "   pclass  survived     sex  age  sibsp  parch      fare embarked boat  \\\n",
       "0       1         1  female   29      0      0  211.3375        S    2   \n",
       "1       1         1    male    0      1      2  151.5500        S   11   \n",
       "2       1         0  female    2      1      2  151.5500        S    8   \n",
       "3       1         0    male   30      1      2  151.5500        S    3   \n",
       "4       1         0  female   25      1      2  151.5500        S    8   \n",
       "\n",
       "  last_name   title                          first_name  female  male  C  Q  S  \n",
       "0     Allen    Miss                    Elisabeth Walton       1     0  0  0  1  \n",
       "1   Allison  Master                       Hudson Trevor       0     1  0  0  1  \n",
       "2   Allison    Miss                       Helen Loraine       1     0  0  0  1  \n",
       "3   Allison      Mr             Hudson Joshua Creighton       0     1  0  0  1  \n",
       "4   Allison     Mrs   Hudson J C (Bessie Waldo Daniels)       1     0  0  0  1  "
      ]
     },
     "execution_count": 154,
     "metadata": {},
     "output_type": "execute_result"
    }
   ],
   "source": [
    "df = pd.concat([df, sex, embarked], axis=1)\n",
    "df.head()"
   ]
  },
  {
   "cell_type": "code",
   "execution_count": 155,
   "id": "bdb50e44-a3da-4ce1-afd1-4dfd8b20b413",
   "metadata": {},
   "outputs": [],
   "source": [
    "# Remove categorical features\n",
    "df.drop(columns=['sex', 'embarked'], axis=1, inplace=True)"
   ]
  },
  {
   "cell_type": "code",
   "execution_count": 156,
   "id": "605af256-862d-40b5-a95c-4f1afa46935e",
   "metadata": {},
   "outputs": [
    {
     "data": {
      "text/html": [
       "<div>\n",
       "<style scoped>\n",
       "    .dataframe tbody tr th:only-of-type {\n",
       "        vertical-align: middle;\n",
       "    }\n",
       "\n",
       "    .dataframe tbody tr th {\n",
       "        vertical-align: top;\n",
       "    }\n",
       "\n",
       "    .dataframe thead th {\n",
       "        text-align: right;\n",
       "    }\n",
       "</style>\n",
       "<table border=\"1\" class=\"dataframe\">\n",
       "  <thead>\n",
       "    <tr style=\"text-align: right;\">\n",
       "      <th></th>\n",
       "      <th>pclass</th>\n",
       "      <th>survived</th>\n",
       "      <th>age</th>\n",
       "      <th>sibsp</th>\n",
       "      <th>parch</th>\n",
       "      <th>fare</th>\n",
       "      <th>boat</th>\n",
       "      <th>last_name</th>\n",
       "      <th>title</th>\n",
       "      <th>first_name</th>\n",
       "      <th>female</th>\n",
       "      <th>male</th>\n",
       "      <th>C</th>\n",
       "      <th>Q</th>\n",
       "      <th>S</th>\n",
       "    </tr>\n",
       "  </thead>\n",
       "  <tbody>\n",
       "    <tr>\n",
       "      <th>0</th>\n",
       "      <td>1</td>\n",
       "      <td>1</td>\n",
       "      <td>29</td>\n",
       "      <td>0</td>\n",
       "      <td>0</td>\n",
       "      <td>211.3375</td>\n",
       "      <td>2</td>\n",
       "      <td>Allen</td>\n",
       "      <td>Miss</td>\n",
       "      <td>Elisabeth Walton</td>\n",
       "      <td>1</td>\n",
       "      <td>0</td>\n",
       "      <td>0</td>\n",
       "      <td>0</td>\n",
       "      <td>1</td>\n",
       "    </tr>\n",
       "  </tbody>\n",
       "</table>\n",
       "</div>"
      ],
      "text/plain": [
       "   pclass  survived  age  sibsp  parch      fare boat last_name title  \\\n",
       "0       1         1   29      0      0  211.3375    2     Allen  Miss   \n",
       "\n",
       "          first_name  female  male  C  Q  S  \n",
       "0   Elisabeth Walton       1     0  0  0  1  "
      ]
     },
     "execution_count": 156,
     "metadata": {},
     "output_type": "execute_result"
    }
   ],
   "source": [
    "df.head(1)"
   ]
  },
  {
   "cell_type": "markdown",
   "id": "cdf5a308-edd1-4679-aa78-91c5f284920c",
   "metadata": {},
   "source": [
    "# 8. Classification Model Using Logistic Regression <a id=8></a>"
   ]
  },
  {
   "cell_type": "markdown",
   "id": "58a94ce3-b3af-481c-81ea-f7c67a72018f",
   "metadata": {},
   "source": [
    "## 8.1 Choosing Variables For Modelling"
   ]
  },
  {
   "cell_type": "code",
   "execution_count": 157,
   "id": "fd1026f6-2116-4476-8fde-a38f6b2c8c59",
   "metadata": {},
   "outputs": [
    {
     "data": {
      "text/html": [
       "<div>\n",
       "<style scoped>\n",
       "    .dataframe tbody tr th:only-of-type {\n",
       "        vertical-align: middle;\n",
       "    }\n",
       "\n",
       "    .dataframe tbody tr th {\n",
       "        vertical-align: top;\n",
       "    }\n",
       "\n",
       "    .dataframe thead th {\n",
       "        text-align: right;\n",
       "    }\n",
       "</style>\n",
       "<table border=\"1\" class=\"dataframe\">\n",
       "  <thead>\n",
       "    <tr style=\"text-align: right;\">\n",
       "      <th></th>\n",
       "      <th>pclass</th>\n",
       "      <th>survived</th>\n",
       "      <th>age</th>\n",
       "      <th>sibsp</th>\n",
       "      <th>parch</th>\n",
       "      <th>fare</th>\n",
       "      <th>female</th>\n",
       "      <th>male</th>\n",
       "      <th>C</th>\n",
       "      <th>Q</th>\n",
       "      <th>S</th>\n",
       "    </tr>\n",
       "  </thead>\n",
       "  <tbody>\n",
       "    <tr>\n",
       "      <th>0</th>\n",
       "      <td>1</td>\n",
       "      <td>1</td>\n",
       "      <td>29</td>\n",
       "      <td>0</td>\n",
       "      <td>0</td>\n",
       "      <td>211.3375</td>\n",
       "      <td>1</td>\n",
       "      <td>0</td>\n",
       "      <td>0</td>\n",
       "      <td>0</td>\n",
       "      <td>1</td>\n",
       "    </tr>\n",
       "    <tr>\n",
       "      <th>1</th>\n",
       "      <td>1</td>\n",
       "      <td>1</td>\n",
       "      <td>0</td>\n",
       "      <td>1</td>\n",
       "      <td>2</td>\n",
       "      <td>151.5500</td>\n",
       "      <td>0</td>\n",
       "      <td>1</td>\n",
       "      <td>0</td>\n",
       "      <td>0</td>\n",
       "      <td>1</td>\n",
       "    </tr>\n",
       "    <tr>\n",
       "      <th>2</th>\n",
       "      <td>1</td>\n",
       "      <td>0</td>\n",
       "      <td>2</td>\n",
       "      <td>1</td>\n",
       "      <td>2</td>\n",
       "      <td>151.5500</td>\n",
       "      <td>1</td>\n",
       "      <td>0</td>\n",
       "      <td>0</td>\n",
       "      <td>0</td>\n",
       "      <td>1</td>\n",
       "    </tr>\n",
       "    <tr>\n",
       "      <th>3</th>\n",
       "      <td>1</td>\n",
       "      <td>0</td>\n",
       "      <td>30</td>\n",
       "      <td>1</td>\n",
       "      <td>2</td>\n",
       "      <td>151.5500</td>\n",
       "      <td>0</td>\n",
       "      <td>1</td>\n",
       "      <td>0</td>\n",
       "      <td>0</td>\n",
       "      <td>1</td>\n",
       "    </tr>\n",
       "    <tr>\n",
       "      <th>4</th>\n",
       "      <td>1</td>\n",
       "      <td>0</td>\n",
       "      <td>25</td>\n",
       "      <td>1</td>\n",
       "      <td>2</td>\n",
       "      <td>151.5500</td>\n",
       "      <td>1</td>\n",
       "      <td>0</td>\n",
       "      <td>0</td>\n",
       "      <td>0</td>\n",
       "      <td>1</td>\n",
       "    </tr>\n",
       "  </tbody>\n",
       "</table>\n",
       "</div>"
      ],
      "text/plain": [
       "   pclass  survived  age  sibsp  parch      fare  female  male  C  Q  S\n",
       "0       1         1   29      0      0  211.3375       1     0  0  0  1\n",
       "1       1         1    0      1      2  151.5500       0     1  0  0  1\n",
       "2       1         0    2      1      2  151.5500       1     0  0  0  1\n",
       "3       1         0   30      1      2  151.5500       0     1  0  0  1\n",
       "4       1         0   25      1      2  151.5500       1     0  0  0  1"
      ]
     },
     "execution_count": 157,
     "metadata": {},
     "output_type": "execute_result"
    }
   ],
   "source": [
    "df_model = df[['pclass', 'survived', 'age', 'sibsp', 'parch', 'fare', 'female', 'male', 'C', 'Q', 'S']].copy()\n",
    "df_model.head()"
   ]
  },
  {
   "cell_type": "markdown",
   "id": "6e28411b-c5cb-44f5-973b-f61bc8466a82",
   "metadata": {},
   "source": [
    "## 8.2 Import Libraries <a id=8.2></a>"
   ]
  },
  {
   "cell_type": "code",
   "execution_count": 158,
   "id": "62e5d631-16df-486f-9997-71da1f53d3b6",
   "metadata": {},
   "outputs": [],
   "source": [
    "from sklearn.model_selection import train_test_split\n",
    "from sklearn.linear_model import LogisticRegression\n",
    "from sklearn.metrics import classification_report, confusion_matrix"
   ]
  },
  {
   "cell_type": "markdown",
   "id": "45750db7-5e10-4e38-9cfe-2ed4b93074e2",
   "metadata": {},
   "source": [
    "## 8.3 Simple Logistic Regression Modelling <a id=8.3></a>"
   ]
  },
  {
   "cell_type": "code",
   "execution_count": 159,
   "id": "97fe5c4e-7cd7-4ac9-82eb-63f00689f86a",
   "metadata": {},
   "outputs": [],
   "source": [
    "X = df_model.drop('survived', axis=1)\n",
    "y = df_model['survived']\n",
    "\n",
    "# split data to train and test sets\n",
    "X_train, X_test, y_train, y_test = train_test_split(X, y, test_size=0.25, random_state=42)\n",
    "\n",
    "# Create instance of logistic regression\n",
    "lr_model = LogisticRegression()\n",
    "\n",
    "# Train model \n",
    "lr_model.fit(X_train, y_train)\n",
    "\n",
    "# Prediction on test dataset\n",
    "y_pred = lr_model.predict(X_test)"
   ]
  },
  {
   "cell_type": "code",
   "execution_count": 160,
   "id": "22cfb510-0974-4b6f-8462-6b15d3da254b",
   "metadata": {},
   "outputs": [
    {
     "name": "stdout",
     "output_type": "stream",
     "text": [
      "              precision    recall  f1-score   support\n",
      "\n",
      "           0       0.78      0.89      0.83       192\n",
      "           1       0.81      0.64      0.72       135\n",
      "\n",
      "    accuracy                           0.79       327\n",
      "   macro avg       0.79      0.77      0.77       327\n",
      "weighted avg       0.79      0.79      0.78       327\n",
      "\n"
     ]
    }
   ],
   "source": [
    "# test the accuracy of model using classification report and confusion matrix\n",
    "class_report = classification_report(y_test, y_pred)\n",
    "print(class_report)"
   ]
  },
  {
   "cell_type": "code",
   "execution_count": 161,
   "id": "2b0d2907-f830-47f0-ba58-9c4fb85358ef",
   "metadata": {
    "scrolled": true
   },
   "outputs": [],
   "source": [
    "cnf_matrix = confusion_matrix(y_test, y_pred)"
   ]
  },
  {
   "cell_type": "code",
   "execution_count": 162,
   "id": "431d1953-79ba-4d7b-8e43-a789118c8f93",
   "metadata": {},
   "outputs": [
    {
     "data": {
      "image/png": "[encoded data removed]",
      "text/plain": [
       "<Figure size 640x480 with 2 Axes>"
      ]
     },
     "metadata": {},
     "output_type": "display_data"
    },
    {
     "name": "stdout",
     "output_type": "stream",
     "text": [
      "Classification Report\n",
      "              precision    recall  f1-score   support\n",
      "\n",
      "           0       0.78      0.89      0.83       192\n",
      "           1       0.81      0.64      0.72       135\n",
      "\n",
      "    accuracy                           0.79       327\n",
      "   macro avg       0.79      0.77      0.77       327\n",
      "weighted avg       0.79      0.79      0.78       327\n",
      "\n"
     ]
    }
   ],
   "source": [
    "fx = sns.heatmap(cnf_matrix, annot=True, cmap=\"Blues\", fmt=\"d\")\n",
    "fx.set_title(\"Confusion matrix\\n\\n\");\n",
    "fx.set_xlabel(\"\\nValues model predicted\")\n",
    "fx.set_ylabel(\"True Values \")\n",
    "plt.show()\n",
    "print(f\"Classification Report\\n{classificationReport}\")"
   ]
  },
  {
   "cell_type": "markdown",
   "id": "73f1eb7f-b042-4346-8770-4b8dca6347e7",
   "metadata": {},
   "source": [
    "### 8.3.1 Analysis Output <a id=8.3.1></a>"
   ]
  },
  {
   "cell_type": "markdown",
   "id": "12b22bd8-0360-4e75-b442-149f3633b7f7",
   "metadata": {},
   "source": [
    "\r\n",
    "1. **Accuracy**:\r\n",
    "   - The accuracy of the model on the test dataset is approximately 0.79, indicating that the model correctly predicts the survival status for about 79% of the passengers in the test dataset.\r\n",
    "\r\n",
    "2. **Precision**:\r\n",
    "   - Precision measures the proportion of true positive predictions out of all positive predictions made by the model.\r\n",
    "   - For the \"not survived\" class (0), the precision is 0.87, indicating that among all passengers predicted by the model as \"not survived,\" 87% actually did not survive.\r\n",
    "   - For the \"survived\" class (1), the precision is 0.68, meaning that among all passengers predicted by the model as \"survived,\" 68% actually survived.\r\n",
    "\r\n",
    "3. **Recall (Sensitivity)**:\r\n",
    "   - Recall measures the proportion of true positive predictions out of all actual positive instances in the dataset.\r\n",
    "   - For the \"not survived\" class (0), the recall is 0.79, indicating that the model correctly identifies 79% of the passengers who did not survive.\r\n",
    "   - For the \"survived\" class (1), the recall is also 0.79, indicating that the model correctly identifies 79% of the passengers who survived.\r\n",
    "\r\n",
    "4. **F1-Score**:\r\n",
    "   - F1-score is the harmonic mean of precision and recall, providing a balanced measure of the model's performance.\r\n",
    "   - The F1-score for the \"not survived\" class (0) is approximately 0.83, and for the \"survived\" class (1), it is approximately 0.73.\r\n",
    "\r\n",
    "5. **Support**:\r\n",
    "   - Support refers to the number of actual occurrences of each class in the test dataset.\r\n",
    "   - There are 141 instances of class 0 (not survived) and 82 instances of class 1 (survived) in the test dataset.\r\n",
    "\r\n",
    "6. **Confusion Matrix**:\r\n",
    "   - The confusion matrix provides a detailed breakdown of the model's predictions versus the actual values.\r\n",
    "   - In the confusion matrix:\r\n",
    "     - True negative (TN): 111 passengers were correctly predicted as not survived.\r\n",
    "     - False positive (FP): 30 passengers were incorrectly predicted as survived.\r\n",
    "     - False negative (FN): 17 passengers were incorrectly predicted as not survived.\r\n",
    "     - True positive (TP): 65 passengers were corhe model's performance further."
   ]
  }
 ],
 "metadata": {
  "kernelspec": {
   "display_name": "Python 3 (ipykernel)",
   "language": "python",
   "name": "python3"
  },
  "language_info": {
   "codemirror_mode": {
    "name": "ipython",
    "version": 3
   },
   "file_extension": ".py",
   "mimetype": "text/x-python",
   "name": "python",
   "nbconvert_exporter": "python",
   "pygments_lexer": "ipython3",
   "version": "3.10.7"
  }
 },
 "nbformat": 4,
 "nbformat_minor": 5
}
